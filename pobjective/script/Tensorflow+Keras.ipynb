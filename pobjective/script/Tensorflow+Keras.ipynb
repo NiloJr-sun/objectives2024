{
 "cells": [
  {
   "cell_type": "code",
   "execution_count": 61,
   "metadata": {},
   "outputs": [],
   "source": [
    "import tensorflow as tf\n",
    "from tensorflow import keras"
   ]
  },
  {
   "cell_type": "code",
   "execution_count": 62,
   "metadata": {},
   "outputs": [],
   "source": [
    "fashiondata = tf.keras.datasets.mnist"
   ]
  },
  {
   "cell_type": "code",
   "execution_count": 63,
   "metadata": {},
   "outputs": [],
   "source": [
    "(x_train, y_train), (x_test, y_test) = fashiondata.load_data()"
   ]
  },
  {
   "cell_type": "code",
   "execution_count": 64,
   "metadata": {},
   "outputs": [
    {
     "data": {
      "text/plain": [
       "(10000, 28, 28)"
      ]
     },
     "execution_count": 64,
     "metadata": {},
     "output_type": "execute_result"
    }
   ],
   "source": [
    "x_test.shape"
   ]
  },
  {
   "cell_type": "code",
   "execution_count": 65,
   "metadata": {},
   "outputs": [
    {
     "data": {
      "text/plain": [
       "(60000, 28, 28)"
      ]
     },
     "execution_count": 65,
     "metadata": {},
     "output_type": "execute_result"
    }
   ],
   "source": [
    "x_train.shape"
   ]
  },
  {
   "cell_type": "code",
   "execution_count": 66,
   "metadata": {},
   "outputs": [],
   "source": [
    "x_train, x_test = x_train/255, x_test/255"
   ]
  },
  {
   "cell_type": "code",
   "execution_count": 67,
   "metadata": {},
   "outputs": [],
   "source": [
    "model = tf.keras.models.Sequential([\n",
    "    tf.keras.layers.Flatten(input_shape=(28,28)),\n",
    "    tf.keras.layers.Dense(128, activation='relu'),\n",
    "    tf.keras.layers.Dropout(0.2),\n",
    "    tf.keras.layers.Dense(10, activation='softmax')\n",
    "])"
   ]
  },
  {
   "cell_type": "code",
   "execution_count": 68,
   "metadata": {},
   "outputs": [],
   "source": [
    "model.compile(optimizer=\"adam\", loss='sparse_categorical_crossentropy', metrics=['accuracy'])"
   ]
  },
  {
   "cell_type": "code",
   "execution_count": 79,
   "metadata": {},
   "outputs": [
    {
     "name": "stderr",
     "output_type": "stream",
     "text": [
      "2024-06-04 08:54:37.153370: W tensorflow/c/c_api.cc:300] Operation '{name:'dense_4_2/bias/Assign' id:1417 op device:{requested: '', assigned: ''} def:{{{node dense_4_2/bias/Assign}} = AssignVariableOp[_has_manual_control_dependencies=true, dtype=DT_FLOAT, validate_shape=false](dense_4_2/bias, dense_4_2/bias/Initializer/zeros)}}' was changed by setting attribute after it was run by a session. This mutation will have no effect, and will trigger an error in the future. Either don't modify nodes after running them or create a new session.\n",
      "2024-06-04 08:54:37.273235: W tensorflow/c/c_api.cc:300] Operation '{name:'dense_5_2/kernel/v/Assign' id:1602 op device:{requested: '', assigned: ''} def:{{{node dense_5_2/kernel/v/Assign}} = AssignVariableOp[_has_manual_control_dependencies=true, dtype=DT_FLOAT, validate_shape=false](dense_5_2/kernel/v, dense_5_2/kernel/v/Initializer/zeros)}}' was changed by setting attribute after it was run by a session. This mutation will have no effect, and will trigger an error in the future. Either don't modify nodes after running them or create a new session.\n"
     ]
    }
   ],
   "source": [
    "from tensorflow.keras.models import load_model\n",
    "model = load_model('./my_model_2024-06-04_07-53.h5')"
   ]
  },
  {
   "cell_type": "code",
   "execution_count": 80,
   "metadata": {},
   "outputs": [
    {
     "name": "stdout",
     "output_type": "stream",
     "text": [
      "Train on 60000 samples\n",
      "Epoch 1/50\n",
      "   32/60000 [..............................] - ETA: 2:45 - loss: 0.0022 - acc: 1.0000"
     ]
    },
    {
     "name": "stderr",
     "output_type": "stream",
     "text": [
      "2024-06-04 08:54:37.483645: W tensorflow/c/c_api.cc:300] Operation '{name:'loss_4/mul' id:1535 op device:{requested: '', assigned: ''} def:{{{node loss_4/mul}} = Mul[T=DT_FLOAT, _has_manual_control_dependencies=true](loss_4/mul/x, loss_4/dense_5_loss/value)}}' was changed by setting attribute after it was run by a session. This mutation will have no effect, and will trigger an error in the future. Either don't modify nodes after running them or create a new session.\n"
     ]
    },
    {
     "name": "stdout",
     "output_type": "stream",
     "text": [
      "60000/60000 [==============================] - 14s 237us/sample - loss: 0.0127 - acc: 0.9958\n",
      "Epoch 2/50\n",
      "60000/60000 [==============================] - 13s 217us/sample - loss: 0.0119 - acc: 0.9961\n",
      "Epoch 3/50\n",
      "60000/60000 [==============================] - 14s 227us/sample - loss: 0.0105 - acc: 0.9965\n",
      "Epoch 4/50\n",
      "60000/60000 [==============================] - 15s 248us/sample - loss: 0.0111 - acc: 0.9965\n",
      "Epoch 5/50\n",
      "60000/60000 [==============================] - 14s 233us/sample - loss: 0.0117 - acc: 0.9963\n",
      "Epoch 6/50\n",
      "60000/60000 [==============================] - 15s 254us/sample - loss: 0.0113 - acc: 0.9965\n",
      "Epoch 7/50\n",
      "60000/60000 [==============================] - 14s 226us/sample - loss: 0.0114 - acc: 0.9963\n",
      "Epoch 8/50\n",
      "60000/60000 [==============================] - 14s 239us/sample - loss: 0.0123 - acc: 0.9964\n",
      "Epoch 9/50\n",
      "60000/60000 [==============================] - 17s 281us/sample - loss: 0.0099 - acc: 0.9968\n",
      "Epoch 10/50\n",
      "60000/60000 [==============================] - 17s 277us/sample - loss: 0.0101 - acc: 0.9967\n",
      "Epoch 11/50\n",
      "60000/60000 [==============================] - 17s 277us/sample - loss: 0.0107 - acc: 0.9963\n",
      "Epoch 12/50\n",
      "60000/60000 [==============================] - 16s 263us/sample - loss: 0.0131 - acc: 0.9961\n",
      "Epoch 13/50\n",
      "60000/60000 [==============================] - 13s 223us/sample - loss: 0.0091 - acc: 0.9972\n",
      "Epoch 14/50\n",
      "60000/60000 [==============================] - 16s 270us/sample - loss: 0.0124 - acc: 0.9962\n",
      "Epoch 15/50\n",
      "60000/60000 [==============================] - 15s 257us/sample - loss: 0.0109 - acc: 0.9963\n",
      "Epoch 16/50\n",
      "60000/60000 [==============================] - 23s 389us/sample - loss: 0.0103 - acc: 0.9969\n",
      "Epoch 17/50\n",
      "60000/60000 [==============================] - 20s 339us/sample - loss: 0.0114 - acc: 0.9964\n",
      "Epoch 18/50\n",
      "60000/60000 [==============================] - 19s 323us/sample - loss: 0.0120 - acc: 0.9962\n",
      "Epoch 19/50\n",
      "60000/60000 [==============================] - 23s 377us/sample - loss: 0.0098 - acc: 0.9969\n",
      "Epoch 20/50\n",
      "60000/60000 [==============================] - 16s 272us/sample - loss: 0.0118 - acc: 0.9961\n",
      "Epoch 21/50\n",
      "60000/60000 [==============================] - 13s 224us/sample - loss: 0.0113 - acc: 0.9967\n",
      "Epoch 22/50\n",
      "60000/60000 [==============================] - 16s 264us/sample - loss: 0.0108 - acc: 0.9968\n",
      "Epoch 23/50\n",
      "60000/60000 [==============================] - 12s 204us/sample - loss: 0.0119 - acc: 0.9963\n",
      "Epoch 24/50\n",
      "60000/60000 [==============================] - 13s 214us/sample - loss: 0.0100 - acc: 0.9969\n",
      "Epoch 25/50\n",
      "60000/60000 [==============================] - 14s 227us/sample - loss: 0.0107 - acc: 0.9967\n",
      "Epoch 26/50\n",
      "60000/60000 [==============================] - 14s 238us/sample - loss: 0.0097 - acc: 0.9966\n",
      "Epoch 27/50\n",
      "60000/60000 [==============================] - 13s 220us/sample - loss: 0.0097 - acc: 0.9968\n",
      "Epoch 28/50\n",
      "60000/60000 [==============================] - 15s 257us/sample - loss: 0.0098 - acc: 0.9970\n",
      "Epoch 29/50\n",
      "60000/60000 [==============================] - 11s 181us/sample - loss: 0.0102 - acc: 0.9967\n",
      "Epoch 30/50\n",
      "60000/60000 [==============================] - 12s 207us/sample - loss: 0.0119 - acc: 0.9964\n",
      "Epoch 31/50\n",
      "60000/60000 [==============================] - 11s 177us/sample - loss: 0.0115 - acc: 0.9966\n",
      "Epoch 32/50\n",
      "60000/60000 [==============================] - 14s 226us/sample - loss: 0.0090 - acc: 0.9971\n",
      "Epoch 33/50\n",
      "60000/60000 [==============================] - 11s 189us/sample - loss: 0.0113 - acc: 0.9965\n",
      "Epoch 34/50\n",
      "60000/60000 [==============================] - 14s 228us/sample - loss: 0.0115 - acc: 0.9963\n",
      "Epoch 35/50\n",
      "60000/60000 [==============================] - 13s 215us/sample - loss: 0.0116 - acc: 0.9962\n",
      "Epoch 36/50\n",
      "60000/60000 [==============================] - 12s 204us/sample - loss: 0.0112 - acc: 0.9964\n",
      "Epoch 37/50\n",
      "60000/60000 [==============================] - 16s 274us/sample - loss: 0.0100 - acc: 0.9965\n",
      "Epoch 38/50\n",
      "60000/60000 [==============================] - 13s 220us/sample - loss: 0.0097 - acc: 0.9967\n",
      "Epoch 39/50\n",
      "60000/60000 [==============================] - 15s 243us/sample - loss: 0.0089 - acc: 0.9973\n",
      "Epoch 40/50\n",
      "60000/60000 [==============================] - 11s 177us/sample - loss: 0.0101 - acc: 0.9969\n",
      "Epoch 41/50\n",
      "60000/60000 [==============================] - 15s 250us/sample - loss: 0.0104 - acc: 0.9968\n",
      "Epoch 42/50\n",
      "60000/60000 [==============================] - 14s 228us/sample - loss: 0.0105 - acc: 0.9967\n",
      "Epoch 43/50\n",
      "60000/60000 [==============================] - 13s 219us/sample - loss: 0.0099 - acc: 0.9968\n",
      "Epoch 44/50\n",
      "60000/60000 [==============================] - 13s 223us/sample - loss: 0.0116 - acc: 0.9964\n",
      "Epoch 45/50\n",
      "60000/60000 [==============================] - 13s 222us/sample - loss: 0.0099 - acc: 0.9967\n",
      "Epoch 46/50\n",
      "60000/60000 [==============================] - 13s 217us/sample - loss: 0.0114 - acc: 0.9964\n",
      "Epoch 47/50\n",
      "60000/60000 [==============================] - 13s 224us/sample - loss: 0.0095 - acc: 0.9973\n",
      "Epoch 48/50\n",
      "60000/60000 [==============================] - 17s 291us/sample - loss: 0.0093 - acc: 0.9975\n",
      "Epoch 49/50\n",
      "60000/60000 [==============================] - 13s 217us/sample - loss: 0.0098 - acc: 0.9968\n",
      "Epoch 50/50\n",
      "60000/60000 [==============================] - 11s 187us/sample - loss: 0.0103 - acc: 0.9967\n"
     ]
    },
    {
     "data": {
      "text/plain": [
       "<keras.callbacks.History at 0x76be76295790>"
      ]
     },
     "execution_count": 80,
     "metadata": {},
     "output_type": "execute_result"
    }
   ],
   "source": [
    "model.fit(x_train, y_train, epochs=50)"
   ]
  },
  {
   "cell_type": "code",
   "execution_count": 81,
   "metadata": {},
   "outputs": [
    {
     "name": "stderr",
     "output_type": "stream",
     "text": [
      "2024-06-04 09:06:43.519725: W tensorflow/c/c_api.cc:300] Operation '{name:'loss_4/mul' id:1535 op device:{requested: '', assigned: ''} def:{{{node loss_4/mul}} = Mul[T=DT_FLOAT, _has_manual_control_dependencies=true](loss_4/mul/x, loss_4/dense_5_loss/value)}}' was changed by setting attribute after it was run by a session. This mutation will have no effect, and will trigger an error in the future. Either don't modify nodes after running them or create a new session.\n"
     ]
    },
    {
     "data": {
      "text/plain": [
       "[0.1964691791925186, 0.9786]"
      ]
     },
     "execution_count": 81,
     "metadata": {},
     "output_type": "execute_result"
    }
   ],
   "source": [
    "model.evaluate(x_test, y_test)"
   ]
  },
  {
   "cell_type": "code",
   "execution_count": 1,
   "metadata": {},
   "outputs": [
    {
     "ename": "NameError",
     "evalue": "name 'model' is not defined",
     "output_type": "error",
     "traceback": [
      "\u001b[0;31m---------------------------------------------------------------------------\u001b[0m",
      "\u001b[0;31mNameError\u001b[0m                                 Traceback (most recent call last)",
      "Cell \u001b[0;32mIn[1], line 4\u001b[0m\n\u001b[1;32m      1\u001b[0m \u001b[38;5;28;01mfrom\u001b[39;00m \u001b[38;5;21;01mdatetime\u001b[39;00m \u001b[38;5;28;01mimport\u001b[39;00m datetime\n\u001b[1;32m      2\u001b[0m current_date \u001b[38;5;241m=\u001b[39m datetime\u001b[38;5;241m.\u001b[39mnow()\u001b[38;5;241m.\u001b[39mstrftime(\u001b[38;5;124m\"\u001b[39m\u001b[38;5;124m%\u001b[39m\u001b[38;5;124mY-\u001b[39m\u001b[38;5;124m%\u001b[39m\u001b[38;5;124mm-\u001b[39m\u001b[38;5;132;01m%d\u001b[39;00m\u001b[38;5;124m_\u001b[39m\u001b[38;5;124m%\u001b[39m\u001b[38;5;124mH-\u001b[39m\u001b[38;5;124m%\u001b[39m\u001b[38;5;124mM\u001b[39m\u001b[38;5;124m\"\u001b[39m)\n\u001b[0;32m----> 4\u001b[0m \u001b[43mmodel\u001b[49m\u001b[38;5;241m.\u001b[39msave(\u001b[38;5;124mf\u001b[39m\u001b[38;5;124m'\u001b[39m\u001b[38;5;124m../models/my_model_\u001b[39m\u001b[38;5;132;01m{\u001b[39;00mcurrent_date\u001b[38;5;132;01m}\u001b[39;00m\u001b[38;5;124m.h5\u001b[39m\u001b[38;5;124m'\u001b[39m)\n",
      "\u001b[0;31mNameError\u001b[0m: name 'model' is not defined"
     ]
    }
   ],
   "source": [
    "from datetime import datetime\n",
    "current_date = datetime.now().strftime(\"%Y-%m-%d_%H-%M\")\n",
    "\n",
    "model.save(f'../models/my_model_{current_date}.h5')"
   ]
  },
  {
   "cell_type": "code",
   "execution_count": null,
   "metadata": {},
   "outputs": [],
   "source": []
  }
 ],
 "metadata": {
  "kernelspec": {
   "display_name": "Python 3 (ipykernel)",
   "language": "python",
   "name": "python3"
  },
  "language_info": {
   "codemirror_mode": {
    "name": "ipython",
    "version": 3
   },
   "file_extension": ".py",
   "mimetype": "text/x-python",
   "name": "python",
   "nbconvert_exporter": "python",
   "pygments_lexer": "ipython3",
   "version": "3.8.18"
  }
 },
 "nbformat": 4,
 "nbformat_minor": 2
}
